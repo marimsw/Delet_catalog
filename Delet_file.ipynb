{
  "nbformat": 4,
  "nbformat_minor": 0,
  "metadata": {
    "colab": {
      "provenance": [],
      "mount_file_id": "17-14bkp3qx_Kco0zVtR_89owbu-mQiyL",
      "authorship_tag": "ABX9TyMhnqQbEn5uxKcUk/Wk+PPF",
      "include_colab_link": true
    },
    "kernelspec": {
      "name": "python3",
      "display_name": "Python 3"
    },
    "language_info": {
      "name": "python"
    }
  },
  "cells": [
    {
      "cell_type": "markdown",
      "metadata": {
        "id": "view-in-github",
        "colab_type": "text"
      },
      "source": [
        "<a href=\"https://colab.research.google.com/github/marimsw/Delet_file/blob/main/Delet_file.ipynb\" target=\"_parent\"><img src=\"https://colab.research.google.com/assets/colab-badge.svg\" alt=\"Open In Colab\"/></a>"
      ]
    },
    {
      "cell_type": "code",
      "execution_count": 4,
      "metadata": {
        "colab": {
          "base_uri": "https://localhost:8080/"
        },
        "id": "X-7ZUJvPQfHl",
        "outputId": "4062cd6d-fd26-4c64-ea93-6d7bc1edc918"
      },
      "outputs": [
        {
          "output_type": "stream",
          "name": "stdout",
          "text": [
            "Введите путь к каталогу для удаления: /content/drive/MyDrive/Rabota/Задачи от 24_09_2024/от Андрея от 03_10_2024/3 удаление каталога с обработкой всех ошибок/Удалить папку\n",
            "Каталог '/content/drive/MyDrive/Rabota/Задачи от 24_09_2024/от Андрея от 03_10_2024/3 удаление каталога с обработкой всех ошибок/Удалить папку' успешно удален.\n"
          ]
        }
      ],
      "source": [
        "import os\n",
        "import shutil\n",
        "\n",
        "def remove_directory(dir_path):\n",
        "    try:\n",
        "        # Проверяем, существует ли каталог\n",
        "        if not os.path.exists(dir_path):\n",
        "            raise FileNotFoundError(f\"Каталог {dir_path} не найден.\")\n",
        "\n",
        "        # Проверяем, является ли это каталогом\n",
        "        if not os.path.isdir(dir_path):\n",
        "            raise NotADirectoryError(f\"{dir_path} не является каталогом.\")\n",
        "\n",
        "        # Удаляем каталог\n",
        "        shutil.rmtree(dir_path)\n",
        "        print(f\"Каталог '{dir_path}' успешно удален.\")\n",
        "\n",
        "    except FileNotFoundError as e:\n",
        "        print(f\"Ошибка: {e}\")\n",
        "    except NotADirectoryError as e:\n",
        "        print(f\"Ошибка: {e}\")\n",
        "    except PermissionError:\n",
        "        print(\"Ошибка: У вас нет разрешения на удаление этого каталога.\")\n",
        "    except OSError as e:\n",
        "        print(f\"Ошибка: Не удалось удалить каталог '{dir_path}'. {e}\")\n",
        "    except Exception as e:\n",
        "        print(f\"Произошла непредвиденная ошибка: {e}\")\n",
        "\n",
        "#\n",
        "dir_path = input(\"Введите путь к каталогу для удаления: \")\n",
        "remove_directory(dir_path)\n"
      ]
    },
    {
      "cell_type": "markdown",
      "source": [
        "+ Проверка существования каталога: Если каталог не существует, выбрасывается FileNotFoundError.  \n",
        "+ Проверка, является ли это каталогом: Если указанный путь не является каталогом, выбрасывается NotADirectoryError.\n",
        "+ Удаление каталога: Используется shutil.rmtree() для рекурсивного удаления каталога и его содержимого.    \n",
        "+ Обработка ошибок: Обрабатываются различные исключения, такие как:\n",
        "++ FileNotFoundError: Если каталог не найден.\n",
        "++ NotADirectoryError: Если указанный путь не является каталогом.\n",
        "++ PermissionError: Если у пользователя нет прав на удаление каталога.\n",
        "++ OSError: Для других ошибок, связанных с операциями ввода-вывода.\n",
        "++ Exception: Для любых других непредвиденных ошибок."
      ],
      "metadata": {
        "id": "vpkGLKUQQ29a"
      }
    }
  ]
}